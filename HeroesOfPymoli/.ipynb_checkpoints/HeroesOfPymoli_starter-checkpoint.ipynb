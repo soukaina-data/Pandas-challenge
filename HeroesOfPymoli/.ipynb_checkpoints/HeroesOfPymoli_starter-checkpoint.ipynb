{
 "cells": [
  {
   "cell_type": "markdown",
   "metadata": {},
   "source": [
    "### Note\n",
    "* Instructions have been included for each segment. You do not have to follow them exactly, but they are included to help you think through the steps."
   ]
  },
  {
   "cell_type": "code",
   "execution_count": 28,
   "metadata": {
    "scrolled": true
   },
   "outputs": [
    {
     "data": {
      "text/html": [
       "<div>\n",
       "<style scoped>\n",
       "    .dataframe tbody tr th:only-of-type {\n",
       "        vertical-align: middle;\n",
       "    }\n",
       "\n",
       "    .dataframe tbody tr th {\n",
       "        vertical-align: top;\n",
       "    }\n",
       "\n",
       "    .dataframe thead th {\n",
       "        text-align: right;\n",
       "    }\n",
       "</style>\n",
       "<table border=\"1\" class=\"dataframe\">\n",
       "  <thead>\n",
       "    <tr style=\"text-align: right;\">\n",
       "      <th></th>\n",
       "      <th>Purchase ID</th>\n",
       "      <th>SN</th>\n",
       "      <th>Age</th>\n",
       "      <th>Gender</th>\n",
       "      <th>Item ID</th>\n",
       "      <th>Item Name</th>\n",
       "      <th>Price</th>\n",
       "    </tr>\n",
       "  </thead>\n",
       "  <tbody>\n",
       "    <tr>\n",
       "      <td>0</td>\n",
       "      <td>0</td>\n",
       "      <td>Lisim78</td>\n",
       "      <td>20</td>\n",
       "      <td>Male</td>\n",
       "      <td>108</td>\n",
       "      <td>Extraction, Quickblade Of Trembling Hands</td>\n",
       "      <td>3.53</td>\n",
       "    </tr>\n",
       "    <tr>\n",
       "      <td>1</td>\n",
       "      <td>1</td>\n",
       "      <td>Lisovynya38</td>\n",
       "      <td>40</td>\n",
       "      <td>Male</td>\n",
       "      <td>143</td>\n",
       "      <td>Frenzied Scimitar</td>\n",
       "      <td>1.56</td>\n",
       "    </tr>\n",
       "    <tr>\n",
       "      <td>2</td>\n",
       "      <td>2</td>\n",
       "      <td>Ithergue48</td>\n",
       "      <td>24</td>\n",
       "      <td>Male</td>\n",
       "      <td>92</td>\n",
       "      <td>Final Critic</td>\n",
       "      <td>4.88</td>\n",
       "    </tr>\n",
       "    <tr>\n",
       "      <td>3</td>\n",
       "      <td>3</td>\n",
       "      <td>Chamassasya86</td>\n",
       "      <td>24</td>\n",
       "      <td>Male</td>\n",
       "      <td>100</td>\n",
       "      <td>Blindscythe</td>\n",
       "      <td>3.27</td>\n",
       "    </tr>\n",
       "    <tr>\n",
       "      <td>4</td>\n",
       "      <td>4</td>\n",
       "      <td>Iskosia90</td>\n",
       "      <td>23</td>\n",
       "      <td>Male</td>\n",
       "      <td>131</td>\n",
       "      <td>Fury</td>\n",
       "      <td>1.44</td>\n",
       "    </tr>\n",
       "  </tbody>\n",
       "</table>\n",
       "</div>"
      ],
      "text/plain": [
       "   Purchase ID             SN  Age Gender  Item ID  \\\n",
       "0            0        Lisim78   20   Male      108   \n",
       "1            1    Lisovynya38   40   Male      143   \n",
       "2            2     Ithergue48   24   Male       92   \n",
       "3            3  Chamassasya86   24   Male      100   \n",
       "4            4      Iskosia90   23   Male      131   \n",
       "\n",
       "                                   Item Name  Price  \n",
       "0  Extraction, Quickblade Of Trembling Hands   3.53  \n",
       "1                          Frenzied Scimitar   1.56  \n",
       "2                               Final Critic   4.88  \n",
       "3                                Blindscythe   3.27  \n",
       "4                                       Fury   1.44  "
      ]
     },
     "execution_count": 28,
     "metadata": {},
     "output_type": "execute_result"
    }
   ],
   "source": [
    "# Dependencies and Setup\n",
    "import pandas as pd\n",
    "\n",
    "# File to Load (Remember to Change These)\n",
    "file_to_load = \"Resources/purchase_data.csv\"\n",
    "\n",
    "# Read Purchasing File and store into Pandas data frame\n",
    "purchase_data_pd = pd.read_csv(file_to_load)\n",
    "purchase_data.head()\n"
   ]
  },
  {
   "cell_type": "code",
   "execution_count": 31,
   "metadata": {
    "scrolled": false
   },
   "outputs": [
    {
     "data": {
      "text/plain": [
       "'Lisim78Lisovynya38Ithergue48Chamassasya86Iskosia90Yalae81Itheria73Iskjaskst81Undjask33Chanosian48Inguron55Haisrisuir60Saelaephos52Assjaskan73Saesrideu94Lisassa64Lisirra25Zontibe81Reunasu60Chamalo71Iathenudil29Phiarithdeu40Siarithria38Eyrian71Siala43Lisirra87Lirtossa84Eusri44Aela59Tyida79Idai61Farusrian86Aeralria27Haillyrgue51Sondim73Jeyciman68Idaisuir85Seuthep89Reulae52Sondilsaya62Aerithriaphos45Assosia88Aidaillodeu39Aelly27Tyeosri53Haerith37Yasrisu92Chanuchi25Asur96Iaralrgue74Saelaephos52Chanosia34Aelin32Ilosianya35Zhisrisu83Phaelap26Raesty92Palyon91Tyisur83Yaliru88Yadanu52Jiskimya77Yadaphos40Alo38Phaena87Chamirraya83Chanastsda67Lisim78Indonmol95Jiskossa61Pheodai94Hari50Marilsa69Assistasda42Lisosia93Philodil43Mindadaran26Lirtosia63Haillyrgue51Assjaskan56Irithlis29Heudai45Haerithp41Aina42Jiskjask60Umolrian85Qarirwen82Aelin32Laedallo55Eoralrap26Undosian34Chadolyla44Chadistaya75Yathedeu43Aina43Ilassast39Lisassala98Aiduecal76Chadossa89Haisrisuir60Pheodaisun84Heollyriap59Maropast28Frichim77Thryallym62Eulanurin88Lassjaskan73Tyaerith73Sondadarya58Hirirap39Ririp86Sundim98Iskichinya81Phyali88Undirrala66Nitherian58Lassilsala30Frichaststa61Pheodaisun84Frichosia58Lisosia93Ilosia37Lisista27Seudaillorap38Aesty53Yathecal82Frichim77Lisossanya98Iral74Lisast87Maridisya31Jiskassa76Inguron55Phaena87Phyali88Ethriel85Iskirra45Iri67Rarallo90Lisasi93Hari50Zhisrisu83Adastirin33Eyista89Ili43Chamirra53Aidaillodeu39Hailaphos89Iskadarya95Qilatista90Inasti31Marilsanya48Marjask87Chanjaskan89Hyaduesu61Aillyrin83Eyrian71Marast30Sundadar27Tyaelorap29Lirtimst73Iri67Styaduen40Sidap51Chanastst38Lirtassa52Sondim68Aeral97Iskjaskst81Heosurnuru52Lisopela58Caesrinusuir82Tyirinu79Fironon91Lassjask63Indcil77Chamimla73Syathe73Baelollodeu94Mindista32Saena74Marirrasta50Lamil79Aenarap34Aisur51Thrientossa55Chadista79Tyeurith29Malunil62Hiasri33Lisadar44Frichjask31Lisjaskya84Ristydru66Frichast28Minduri31Maradaran90Mindetosya30Chadolyla44Ialallo29Pheusrical25Chanosia60Phistym51Aelollo59Chamimla85Jiskimya77Haisurra41Sondastsda82Qilanrion65Eulasuir89Umolrian85Eosrirgue62Shaidanu32Lirtastan49Iaralsuir44Ialallo29Tyeudariasuir90Cosadar58Aelastirin39Aidai53Jiskjask85Ealrion88Chamjask73Undirrala66Lisosia93Tyaenasti87Alim85Haeladil46Jiskirran77Undosia27Peorith44Yarithsurgue62Sundadar27Taeduenu92Chamimla85Rairin89Aerithriaphos46Idairin51Lisista54Eodailis27Lirtastsda29Undilsan50Eodaisu60Quaranmol58Lirtossa60Lisim78Lirtilsa71Iskadarya95Isursuir31Sundirrala66Saerallora71Iasur80Tyaelo67Aesty53Quanunwen42Sondastsda82Chamirra53Yasur35Assehoan67Haellysu29Saida58Tyeosri53Chamadar79Aeral43Saesrideu94Lirtirra37Siala43Tyidaim51Inasti31Lassassast73Assassasta79Heollyra92Anallorgue57Phyali88Aerithllora36Smaistysu35Tyidaim51Ennalmol65Iskichinya81Yarithrgue83Yana46Sondimla25Aidai61Wailin72Firan91Alaesu91Aellynun67Rilaera56Eulaestira36Marim28Idastidru52Idairin51Lisasi93Lisopela58Ilirrasda54Alaephos75Syalollorap93Heosurnuru52Minduli80Lirtossa84Chanastya70Frichadaran88Siallylis44Aeri84Iasursti71Siallylis44Mindilsa34Chamastya76Undirra73Aestysu37Chadadarla74Anallorgue57Strithenu87Iasrira89Ialidru40Tyisur83Tyalaesu89Tyidainu31Iskadarya95Rarallo90Lirtilsa72Undjaskla97Saedaiphos46Tyisur83Aerithnucal56Hiasri33Lisossa46Layjask75Lisista63Ceoral34Hilaerin92Chadilsasta32Undassa89Iduenu77Lisosia66Undimsya85Phaedue89Yadacal26Lisossa25Ilmol66Yastyriaphos75Hiasurria41Palatyon26Chadilsasta32Qilalista41Hada39Saedaiphos46Chamilsala65Eulaestira36Sundirrala66Rairith81Assistasda42Ilarin91Ryanara76Undista85Tyeoralru41Pheosrinudeu70Heuli25Pheutherin27Chadirra90Ali84Frichjaskan98Malil90Aina42Yarithllodeu72Tyaedainu44Hirirap39Eodailis27Ethron58Heuli25Idai61Eusurdeu49Saistyphos30Aina42Saisrilis27Hallysucal81Ilimya66Raysistast71Haedairiadru51Tyananurgue44Risty84Aerillorin70Phistyn52Yalo85Chamirrasya33Hiral75Isursti83Bartassaya73Aeda94Quinarap53Asur53Alarap40Sida61Hiarideu73Lassassasda30Ennoncil86Siralsudeu54Eusri26Ardcil81Marilsasya33Ilarin91Lirtim36Heunadil74Frichadar89Chamirrasya33Aesurstilis64Idaidil28Idai61Raesty92Lisotesta51Strithenu87Lisico81Lisiriya82Siana77Marokian45Sausosia74Aestysu37Pheodaisun84Marim28Iaralrgue74Assesi91Yadaphos40Eusri70Aisurria69Iarilis73Raisty38Ilista82Leyirra83Aelly27Aiduesu86Frichynde86Aelollo59Hisridru55Chamossa77Irillo49Lirtastsya71Umolrian85Frichosiala98Qilunan34Quarrion42Aisurdru79Hiaral50Zontibe81Iarallo65Sondassasya91Phaelap26Chanossast57Yalae81Chanjask65Ethralista69Sondistanya61Eudanu32Marilsasya33Euthe35Lassimla92Lisossala30Phaena87Eulae84Chamadarnya73Eolan54Assistasda90Ennrian78Undirrasta89Frichadaran88Rianistast50Sondastsda82Undare39Adairialis76Aesur96Tyialisudeu65Arirgue63Sundadarla27Lisopela58Eyircil84Ina92Lirtistanya48Marassa62Mindossa76Sondim68Chanjaskan89Salilis27Sondossa69Sundjask71Saistyphos30Chanosian48Errian63Eurithphos97Raillydeu47Malon70Jiskimsda56Idastidru52Marughi89Ingatcil75Chanirrasta87Alaesu77Ermol76Tyeuduen32Yadacal26Firon67Iadueria43Pheulidil31Eodairu79Frichocesta66Iaralsuir44Chamilsala65Thourdirra92Chadista79Chanastnya43Iskim96Inguron55Eulolis41Lassilsala30Sastydeu50Ilaesudil92Yasur85Haillyrgue51Aidain51Aerithnuphos61Yalostiphos68Eusri70Chamjask73Phistym51Meosridil82Aillyriadru65Sally64Lirtimst73Ilosia37Lisim51Isurria36Silaera56Leetirraya83Lirtirra81Eryon48Hada39Iana95Siralsudeu54Siallylis44Sondassan80Chanadar44Eosurdru76Shidai42Aesri53Syally44Idastidru52Ardcil81Jiskadarst60Sondadar26Malarrian73Yathecal82Maluncil97Ilunyon70Iri67Hiaral50Yadam35Dyally87Pheosurllorin41Frichocesta66Frichaya88Lassadarsda57Iasrira89Zontibe81Chanastnya43Marynde90Isri34Chamjask73Assastnya25Ardonmol96Lassirrasda85Syally44Baelollodeu94Chadossa56Poshilsa82Yoishirrala98Sundista37Undare39Sondadar26Ilassa51Filurarn35Aerithllora36Marilsa69Tyida79Phaestycal84Irilis75Aeralstical35Aelin32Chanirrala39Chanirra79Assirra56Lassadarsda57Seolollo93Iathem87Iasurriacal29Lisast98Lassimla92Filrion59Yathedeu43Seudaillorap38Quinarap53Halaecal66Hiaral50Iskosian40Ilastilis78Seosrim97Lisosia93Lisim51Farrian71Nitherian58Rithe53Leyirra83Lisosia93Frichossala54Chamjaskya75Silaera56Quanrion96Chadadarla74Sida61Tyaelaelis94Chamimla85Aisurdru79Quanenrian83Undosian34Seosrim97Chanirra64Iral74Marynde90Yadaisuir65Syathecal44Arin32Hada39Maluncil97Aelaria33Assassa81Filrion83Chanastnya43Eoral49Ali84Chanirrala39Airi27Eurisuru25Liawista80Sausosia74Lisirra58Chamadarsda63Haestyphos66Bartassaya73Phaedasurap84Mindimnya67Chadjask85Eustyria89Iskim66Smaistysu35Lirtilsa72Pheosrinudeu70Chamast86Tyialisudeu65Lirtassan78Ethrasyon38Silaera56Quilassa66Lisassasda39Isri34Strithenu87Mindilsa60Lalossa38Chamistast30Hariphos58Assilsan72Inasuir29Chanilsasda38Mindesi74Aiduecal76Caesrinusuir82Ililsan66Idacal95Aeral68Lirtastsda29Idastidru52Tyarithn67Rarallo90Iarilis73Asty82Yalaeria91Lirtossa60Ialallo29Phaestycal84Halaecal66Chadjask77Ealiril69Saistyphos30Undjaskla97Idaidil28Lirtistanya48Quaecjask96Firatan58Mindesi74Lamil79Yarolwen77Tyaelistidru84Yarithrin84Tyaelly53Chanosia60Phiristi62Ililsasya43Aithelis62Undotesta33Aelidru27Chanossanya44Maradarnya40Lirtastsya71Lisast87Lisossa25Chadolyla44Lisilsa62Iasur80Tyidaim51Eusurdeu49Saena89Chanilsast61Ilirrasda54Sundassa93Aidai73Indirrian56Ilarin91Lisista54Lisassasta50Malunil62Iduelis31Yathecal82Chanosiaya39Assylla81Aidaira26Eudanu84Eurithphos97Chamiman85Arin32Leetirraya83Tyialisti80Marundi65Eusur90Mindirranya33Reunasu60Phiallylis33Isty55Frichilsa31Chanastst38Chanista95Aellyria80Siarithria38Rastynusuir31Chanossanya44Iljask75Lisjaskan36Mindjasksya61Frichirranya75Pheosurllorin41Raesty92Ilast79Eratiel90Iral74Tyaelorap29Aithelis62Assim27Asur53Lassilsala30Saedaiphos46Irith83Aelastirin39Ilmol66Assassasta79Ilosian36Lirtosia63Iskossasda43Asur53Hala31Jiskjask80Aethedru70Iral74Yathecal72Sisur91Ennrian78'"
      ]
     },
     "execution_count": 31,
     "metadata": {},
     "output_type": "execute_result"
    }
   ],
   "source": [
    "# Total Number of Players\n",
    "total = purchase_data_pd[\"SN\"].sum()\n",
    "total\n"
   ]
  },
  {
   "cell_type": "code",
   "execution_count": 31,
   "metadata": {},
   "outputs": [
    {
     "data": {
      "text/plain": [
       "'Lisim78Lisovynya38Ithergue48Chamassasya86Iskosia90Yalae81Itheria73Iskjaskst81Undjask33Chanosian48Inguron55Haisrisuir60Saelaephos52Assjaskan73Saesrideu94Lisassa64Lisirra25Zontibe81Reunasu60Chamalo71Iathenudil29Phiarithdeu40Siarithria38Eyrian71Siala43Lisirra87Lirtossa84Eusri44Aela59Tyida79Idai61Farusrian86Aeralria27Haillyrgue51Sondim73Jeyciman68Idaisuir85Seuthep89Reulae52Sondilsaya62Aerithriaphos45Assosia88Aidaillodeu39Aelly27Tyeosri53Haerith37Yasrisu92Chanuchi25Asur96Iaralrgue74Saelaephos52Chanosia34Aelin32Ilosianya35Zhisrisu83Phaelap26Raesty92Palyon91Tyisur83Yaliru88Yadanu52Jiskimya77Yadaphos40Alo38Phaena87Chamirraya83Chanastsda67Lisim78Indonmol95Jiskossa61Pheodai94Hari50Marilsa69Assistasda42Lisosia93Philodil43Mindadaran26Lirtosia63Haillyrgue51Assjaskan56Irithlis29Heudai45Haerithp41Aina42Jiskjask60Umolrian85Qarirwen82Aelin32Laedallo55Eoralrap26Undosian34Chadolyla44Chadistaya75Yathedeu43Aina43Ilassast39Lisassala98Aiduecal76Chadossa89Haisrisuir60Pheodaisun84Heollyriap59Maropast28Frichim77Thryallym62Eulanurin88Lassjaskan73Tyaerith73Sondadarya58Hirirap39Ririp86Sundim98Iskichinya81Phyali88Undirrala66Nitherian58Lassilsala30Frichaststa61Pheodaisun84Frichosia58Lisosia93Ilosia37Lisista27Seudaillorap38Aesty53Yathecal82Frichim77Lisossanya98Iral74Lisast87Maridisya31Jiskassa76Inguron55Phaena87Phyali88Ethriel85Iskirra45Iri67Rarallo90Lisasi93Hari50Zhisrisu83Adastirin33Eyista89Ili43Chamirra53Aidaillodeu39Hailaphos89Iskadarya95Qilatista90Inasti31Marilsanya48Marjask87Chanjaskan89Hyaduesu61Aillyrin83Eyrian71Marast30Sundadar27Tyaelorap29Lirtimst73Iri67Styaduen40Sidap51Chanastst38Lirtassa52Sondim68Aeral97Iskjaskst81Heosurnuru52Lisopela58Caesrinusuir82Tyirinu79Fironon91Lassjask63Indcil77Chamimla73Syathe73Baelollodeu94Mindista32Saena74Marirrasta50Lamil79Aenarap34Aisur51Thrientossa55Chadista79Tyeurith29Malunil62Hiasri33Lisadar44Frichjask31Lisjaskya84Ristydru66Frichast28Minduri31Maradaran90Mindetosya30Chadolyla44Ialallo29Pheusrical25Chanosia60Phistym51Aelollo59Chamimla85Jiskimya77Haisurra41Sondastsda82Qilanrion65Eulasuir89Umolrian85Eosrirgue62Shaidanu32Lirtastan49Iaralsuir44Ialallo29Tyeudariasuir90Cosadar58Aelastirin39Aidai53Jiskjask85Ealrion88Chamjask73Undirrala66Lisosia93Tyaenasti87Alim85Haeladil46Jiskirran77Undosia27Peorith44Yarithsurgue62Sundadar27Taeduenu92Chamimla85Rairin89Aerithriaphos46Idairin51Lisista54Eodailis27Lirtastsda29Undilsan50Eodaisu60Quaranmol58Lirtossa60Lisim78Lirtilsa71Iskadarya95Isursuir31Sundirrala66Saerallora71Iasur80Tyaelo67Aesty53Quanunwen42Sondastsda82Chamirra53Yasur35Assehoan67Haellysu29Saida58Tyeosri53Chamadar79Aeral43Saesrideu94Lirtirra37Siala43Tyidaim51Inasti31Lassassast73Assassasta79Heollyra92Anallorgue57Phyali88Aerithllora36Smaistysu35Tyidaim51Ennalmol65Iskichinya81Yarithrgue83Yana46Sondimla25Aidai61Wailin72Firan91Alaesu91Aellynun67Rilaera56Eulaestira36Marim28Idastidru52Idairin51Lisasi93Lisopela58Ilirrasda54Alaephos75Syalollorap93Heosurnuru52Minduli80Lirtossa84Chanastya70Frichadaran88Siallylis44Aeri84Iasursti71Siallylis44Mindilsa34Chamastya76Undirra73Aestysu37Chadadarla74Anallorgue57Strithenu87Iasrira89Ialidru40Tyisur83Tyalaesu89Tyidainu31Iskadarya95Rarallo90Lirtilsa72Undjaskla97Saedaiphos46Tyisur83Aerithnucal56Hiasri33Lisossa46Layjask75Lisista63Ceoral34Hilaerin92Chadilsasta32Undassa89Iduenu77Lisosia66Undimsya85Phaedue89Yadacal26Lisossa25Ilmol66Yastyriaphos75Hiasurria41Palatyon26Chadilsasta32Qilalista41Hada39Saedaiphos46Chamilsala65Eulaestira36Sundirrala66Rairith81Assistasda42Ilarin91Ryanara76Undista85Tyeoralru41Pheosrinudeu70Heuli25Pheutherin27Chadirra90Ali84Frichjaskan98Malil90Aina42Yarithllodeu72Tyaedainu44Hirirap39Eodailis27Ethron58Heuli25Idai61Eusurdeu49Saistyphos30Aina42Saisrilis27Hallysucal81Ilimya66Raysistast71Haedairiadru51Tyananurgue44Risty84Aerillorin70Phistyn52Yalo85Chamirrasya33Hiral75Isursti83Bartassaya73Aeda94Quinarap53Asur53Alarap40Sida61Hiarideu73Lassassasda30Ennoncil86Siralsudeu54Eusri26Ardcil81Marilsasya33Ilarin91Lirtim36Heunadil74Frichadar89Chamirrasya33Aesurstilis64Idaidil28Idai61Raesty92Lisotesta51Strithenu87Lisico81Lisiriya82Siana77Marokian45Sausosia74Aestysu37Pheodaisun84Marim28Iaralrgue74Assesi91Yadaphos40Eusri70Aisurria69Iarilis73Raisty38Ilista82Leyirra83Aelly27Aiduesu86Frichynde86Aelollo59Hisridru55Chamossa77Irillo49Lirtastsya71Umolrian85Frichosiala98Qilunan34Quarrion42Aisurdru79Hiaral50Zontibe81Iarallo65Sondassasya91Phaelap26Chanossast57Yalae81Chanjask65Ethralista69Sondistanya61Eudanu32Marilsasya33Euthe35Lassimla92Lisossala30Phaena87Eulae84Chamadarnya73Eolan54Assistasda90Ennrian78Undirrasta89Frichadaran88Rianistast50Sondastsda82Undare39Adairialis76Aesur96Tyialisudeu65Arirgue63Sundadarla27Lisopela58Eyircil84Ina92Lirtistanya48Marassa62Mindossa76Sondim68Chanjaskan89Salilis27Sondossa69Sundjask71Saistyphos30Chanosian48Errian63Eurithphos97Raillydeu47Malon70Jiskimsda56Idastidru52Marughi89Ingatcil75Chanirrasta87Alaesu77Ermol76Tyeuduen32Yadacal26Firon67Iadueria43Pheulidil31Eodairu79Frichocesta66Iaralsuir44Chamilsala65Thourdirra92Chadista79Chanastnya43Iskim96Inguron55Eulolis41Lassilsala30Sastydeu50Ilaesudil92Yasur85Haillyrgue51Aidain51Aerithnuphos61Yalostiphos68Eusri70Chamjask73Phistym51Meosridil82Aillyriadru65Sally64Lirtimst73Ilosia37Lisim51Isurria36Silaera56Leetirraya83Lirtirra81Eryon48Hada39Iana95Siralsudeu54Siallylis44Sondassan80Chanadar44Eosurdru76Shidai42Aesri53Syally44Idastidru52Ardcil81Jiskadarst60Sondadar26Malarrian73Yathecal82Maluncil97Ilunyon70Iri67Hiaral50Yadam35Dyally87Pheosurllorin41Frichocesta66Frichaya88Lassadarsda57Iasrira89Zontibe81Chanastnya43Marynde90Isri34Chamjask73Assastnya25Ardonmol96Lassirrasda85Syally44Baelollodeu94Chadossa56Poshilsa82Yoishirrala98Sundista37Undare39Sondadar26Ilassa51Filurarn35Aerithllora36Marilsa69Tyida79Phaestycal84Irilis75Aeralstical35Aelin32Chanirrala39Chanirra79Assirra56Lassadarsda57Seolollo93Iathem87Iasurriacal29Lisast98Lassimla92Filrion59Yathedeu43Seudaillorap38Quinarap53Halaecal66Hiaral50Iskosian40Ilastilis78Seosrim97Lisosia93Lisim51Farrian71Nitherian58Rithe53Leyirra83Lisosia93Frichossala54Chamjaskya75Silaera56Quanrion96Chadadarla74Sida61Tyaelaelis94Chamimla85Aisurdru79Quanenrian83Undosian34Seosrim97Chanirra64Iral74Marynde90Yadaisuir65Syathecal44Arin32Hada39Maluncil97Aelaria33Assassa81Filrion83Chanastnya43Eoral49Ali84Chanirrala39Airi27Eurisuru25Liawista80Sausosia74Lisirra58Chamadarsda63Haestyphos66Bartassaya73Phaedasurap84Mindimnya67Chadjask85Eustyria89Iskim66Smaistysu35Lirtilsa72Pheosrinudeu70Chamast86Tyialisudeu65Lirtassan78Ethrasyon38Silaera56Quilassa66Lisassasda39Isri34Strithenu87Mindilsa60Lalossa38Chamistast30Hariphos58Assilsan72Inasuir29Chanilsasda38Mindesi74Aiduecal76Caesrinusuir82Ililsan66Idacal95Aeral68Lirtastsda29Idastidru52Tyarithn67Rarallo90Iarilis73Asty82Yalaeria91Lirtossa60Ialallo29Phaestycal84Halaecal66Chadjask77Ealiril69Saistyphos30Undjaskla97Idaidil28Lirtistanya48Quaecjask96Firatan58Mindesi74Lamil79Yarolwen77Tyaelistidru84Yarithrin84Tyaelly53Chanosia60Phiristi62Ililsasya43Aithelis62Undotesta33Aelidru27Chanossanya44Maradarnya40Lirtastsya71Lisast87Lisossa25Chadolyla44Lisilsa62Iasur80Tyidaim51Eusurdeu49Saena89Chanilsast61Ilirrasda54Sundassa93Aidai73Indirrian56Ilarin91Lisista54Lisassasta50Malunil62Iduelis31Yathecal82Chanosiaya39Assylla81Aidaira26Eudanu84Eurithphos97Chamiman85Arin32Leetirraya83Tyialisti80Marundi65Eusur90Mindirranya33Reunasu60Phiallylis33Isty55Frichilsa31Chanastst38Chanista95Aellyria80Siarithria38Rastynusuir31Chanossanya44Iljask75Lisjaskan36Mindjasksya61Frichirranya75Pheosurllorin41Raesty92Ilast79Eratiel90Iral74Tyaelorap29Aithelis62Assim27Asur53Lassilsala30Saedaiphos46Irith83Aelastirin39Ilmol66Assassasta79Ilosian36Lirtosia63Iskossasda43Asur53Hala31Jiskjask80Aethedru70Iral74Yathecal72Sisur91Ennrian78'"
      ]
     },
     "execution_count": 31,
     "metadata": {},
     "output_type": "execute_result"
    }
   ],
   "source": [
    "# Total Number of Players\n",
    "total = purchase_data_pd[\"SN\"].sum()\n",
    "total\n"
   ]
  },
  {
   "cell_type": "code",
   "execution_count": 31,
   "metadata": {},
   "outputs": [
    {
     "data": {
      "text/plain": [
       "'Lisim78Lisovynya38Ithergue48Chamassasya86Iskosia90Yalae81Itheria73Iskjaskst81Undjask33Chanosian48Inguron55Haisrisuir60Saelaephos52Assjaskan73Saesrideu94Lisassa64Lisirra25Zontibe81Reunasu60Chamalo71Iathenudil29Phiarithdeu40Siarithria38Eyrian71Siala43Lisirra87Lirtossa84Eusri44Aela59Tyida79Idai61Farusrian86Aeralria27Haillyrgue51Sondim73Jeyciman68Idaisuir85Seuthep89Reulae52Sondilsaya62Aerithriaphos45Assosia88Aidaillodeu39Aelly27Tyeosri53Haerith37Yasrisu92Chanuchi25Asur96Iaralrgue74Saelaephos52Chanosia34Aelin32Ilosianya35Zhisrisu83Phaelap26Raesty92Palyon91Tyisur83Yaliru88Yadanu52Jiskimya77Yadaphos40Alo38Phaena87Chamirraya83Chanastsda67Lisim78Indonmol95Jiskossa61Pheodai94Hari50Marilsa69Assistasda42Lisosia93Philodil43Mindadaran26Lirtosia63Haillyrgue51Assjaskan56Irithlis29Heudai45Haerithp41Aina42Jiskjask60Umolrian85Qarirwen82Aelin32Laedallo55Eoralrap26Undosian34Chadolyla44Chadistaya75Yathedeu43Aina43Ilassast39Lisassala98Aiduecal76Chadossa89Haisrisuir60Pheodaisun84Heollyriap59Maropast28Frichim77Thryallym62Eulanurin88Lassjaskan73Tyaerith73Sondadarya58Hirirap39Ririp86Sundim98Iskichinya81Phyali88Undirrala66Nitherian58Lassilsala30Frichaststa61Pheodaisun84Frichosia58Lisosia93Ilosia37Lisista27Seudaillorap38Aesty53Yathecal82Frichim77Lisossanya98Iral74Lisast87Maridisya31Jiskassa76Inguron55Phaena87Phyali88Ethriel85Iskirra45Iri67Rarallo90Lisasi93Hari50Zhisrisu83Adastirin33Eyista89Ili43Chamirra53Aidaillodeu39Hailaphos89Iskadarya95Qilatista90Inasti31Marilsanya48Marjask87Chanjaskan89Hyaduesu61Aillyrin83Eyrian71Marast30Sundadar27Tyaelorap29Lirtimst73Iri67Styaduen40Sidap51Chanastst38Lirtassa52Sondim68Aeral97Iskjaskst81Heosurnuru52Lisopela58Caesrinusuir82Tyirinu79Fironon91Lassjask63Indcil77Chamimla73Syathe73Baelollodeu94Mindista32Saena74Marirrasta50Lamil79Aenarap34Aisur51Thrientossa55Chadista79Tyeurith29Malunil62Hiasri33Lisadar44Frichjask31Lisjaskya84Ristydru66Frichast28Minduri31Maradaran90Mindetosya30Chadolyla44Ialallo29Pheusrical25Chanosia60Phistym51Aelollo59Chamimla85Jiskimya77Haisurra41Sondastsda82Qilanrion65Eulasuir89Umolrian85Eosrirgue62Shaidanu32Lirtastan49Iaralsuir44Ialallo29Tyeudariasuir90Cosadar58Aelastirin39Aidai53Jiskjask85Ealrion88Chamjask73Undirrala66Lisosia93Tyaenasti87Alim85Haeladil46Jiskirran77Undosia27Peorith44Yarithsurgue62Sundadar27Taeduenu92Chamimla85Rairin89Aerithriaphos46Idairin51Lisista54Eodailis27Lirtastsda29Undilsan50Eodaisu60Quaranmol58Lirtossa60Lisim78Lirtilsa71Iskadarya95Isursuir31Sundirrala66Saerallora71Iasur80Tyaelo67Aesty53Quanunwen42Sondastsda82Chamirra53Yasur35Assehoan67Haellysu29Saida58Tyeosri53Chamadar79Aeral43Saesrideu94Lirtirra37Siala43Tyidaim51Inasti31Lassassast73Assassasta79Heollyra92Anallorgue57Phyali88Aerithllora36Smaistysu35Tyidaim51Ennalmol65Iskichinya81Yarithrgue83Yana46Sondimla25Aidai61Wailin72Firan91Alaesu91Aellynun67Rilaera56Eulaestira36Marim28Idastidru52Idairin51Lisasi93Lisopela58Ilirrasda54Alaephos75Syalollorap93Heosurnuru52Minduli80Lirtossa84Chanastya70Frichadaran88Siallylis44Aeri84Iasursti71Siallylis44Mindilsa34Chamastya76Undirra73Aestysu37Chadadarla74Anallorgue57Strithenu87Iasrira89Ialidru40Tyisur83Tyalaesu89Tyidainu31Iskadarya95Rarallo90Lirtilsa72Undjaskla97Saedaiphos46Tyisur83Aerithnucal56Hiasri33Lisossa46Layjask75Lisista63Ceoral34Hilaerin92Chadilsasta32Undassa89Iduenu77Lisosia66Undimsya85Phaedue89Yadacal26Lisossa25Ilmol66Yastyriaphos75Hiasurria41Palatyon26Chadilsasta32Qilalista41Hada39Saedaiphos46Chamilsala65Eulaestira36Sundirrala66Rairith81Assistasda42Ilarin91Ryanara76Undista85Tyeoralru41Pheosrinudeu70Heuli25Pheutherin27Chadirra90Ali84Frichjaskan98Malil90Aina42Yarithllodeu72Tyaedainu44Hirirap39Eodailis27Ethron58Heuli25Idai61Eusurdeu49Saistyphos30Aina42Saisrilis27Hallysucal81Ilimya66Raysistast71Haedairiadru51Tyananurgue44Risty84Aerillorin70Phistyn52Yalo85Chamirrasya33Hiral75Isursti83Bartassaya73Aeda94Quinarap53Asur53Alarap40Sida61Hiarideu73Lassassasda30Ennoncil86Siralsudeu54Eusri26Ardcil81Marilsasya33Ilarin91Lirtim36Heunadil74Frichadar89Chamirrasya33Aesurstilis64Idaidil28Idai61Raesty92Lisotesta51Strithenu87Lisico81Lisiriya82Siana77Marokian45Sausosia74Aestysu37Pheodaisun84Marim28Iaralrgue74Assesi91Yadaphos40Eusri70Aisurria69Iarilis73Raisty38Ilista82Leyirra83Aelly27Aiduesu86Frichynde86Aelollo59Hisridru55Chamossa77Irillo49Lirtastsya71Umolrian85Frichosiala98Qilunan34Quarrion42Aisurdru79Hiaral50Zontibe81Iarallo65Sondassasya91Phaelap26Chanossast57Yalae81Chanjask65Ethralista69Sondistanya61Eudanu32Marilsasya33Euthe35Lassimla92Lisossala30Phaena87Eulae84Chamadarnya73Eolan54Assistasda90Ennrian78Undirrasta89Frichadaran88Rianistast50Sondastsda82Undare39Adairialis76Aesur96Tyialisudeu65Arirgue63Sundadarla27Lisopela58Eyircil84Ina92Lirtistanya48Marassa62Mindossa76Sondim68Chanjaskan89Salilis27Sondossa69Sundjask71Saistyphos30Chanosian48Errian63Eurithphos97Raillydeu47Malon70Jiskimsda56Idastidru52Marughi89Ingatcil75Chanirrasta87Alaesu77Ermol76Tyeuduen32Yadacal26Firon67Iadueria43Pheulidil31Eodairu79Frichocesta66Iaralsuir44Chamilsala65Thourdirra92Chadista79Chanastnya43Iskim96Inguron55Eulolis41Lassilsala30Sastydeu50Ilaesudil92Yasur85Haillyrgue51Aidain51Aerithnuphos61Yalostiphos68Eusri70Chamjask73Phistym51Meosridil82Aillyriadru65Sally64Lirtimst73Ilosia37Lisim51Isurria36Silaera56Leetirraya83Lirtirra81Eryon48Hada39Iana95Siralsudeu54Siallylis44Sondassan80Chanadar44Eosurdru76Shidai42Aesri53Syally44Idastidru52Ardcil81Jiskadarst60Sondadar26Malarrian73Yathecal82Maluncil97Ilunyon70Iri67Hiaral50Yadam35Dyally87Pheosurllorin41Frichocesta66Frichaya88Lassadarsda57Iasrira89Zontibe81Chanastnya43Marynde90Isri34Chamjask73Assastnya25Ardonmol96Lassirrasda85Syally44Baelollodeu94Chadossa56Poshilsa82Yoishirrala98Sundista37Undare39Sondadar26Ilassa51Filurarn35Aerithllora36Marilsa69Tyida79Phaestycal84Irilis75Aeralstical35Aelin32Chanirrala39Chanirra79Assirra56Lassadarsda57Seolollo93Iathem87Iasurriacal29Lisast98Lassimla92Filrion59Yathedeu43Seudaillorap38Quinarap53Halaecal66Hiaral50Iskosian40Ilastilis78Seosrim97Lisosia93Lisim51Farrian71Nitherian58Rithe53Leyirra83Lisosia93Frichossala54Chamjaskya75Silaera56Quanrion96Chadadarla74Sida61Tyaelaelis94Chamimla85Aisurdru79Quanenrian83Undosian34Seosrim97Chanirra64Iral74Marynde90Yadaisuir65Syathecal44Arin32Hada39Maluncil97Aelaria33Assassa81Filrion83Chanastnya43Eoral49Ali84Chanirrala39Airi27Eurisuru25Liawista80Sausosia74Lisirra58Chamadarsda63Haestyphos66Bartassaya73Phaedasurap84Mindimnya67Chadjask85Eustyria89Iskim66Smaistysu35Lirtilsa72Pheosrinudeu70Chamast86Tyialisudeu65Lirtassan78Ethrasyon38Silaera56Quilassa66Lisassasda39Isri34Strithenu87Mindilsa60Lalossa38Chamistast30Hariphos58Assilsan72Inasuir29Chanilsasda38Mindesi74Aiduecal76Caesrinusuir82Ililsan66Idacal95Aeral68Lirtastsda29Idastidru52Tyarithn67Rarallo90Iarilis73Asty82Yalaeria91Lirtossa60Ialallo29Phaestycal84Halaecal66Chadjask77Ealiril69Saistyphos30Undjaskla97Idaidil28Lirtistanya48Quaecjask96Firatan58Mindesi74Lamil79Yarolwen77Tyaelistidru84Yarithrin84Tyaelly53Chanosia60Phiristi62Ililsasya43Aithelis62Undotesta33Aelidru27Chanossanya44Maradarnya40Lirtastsya71Lisast87Lisossa25Chadolyla44Lisilsa62Iasur80Tyidaim51Eusurdeu49Saena89Chanilsast61Ilirrasda54Sundassa93Aidai73Indirrian56Ilarin91Lisista54Lisassasta50Malunil62Iduelis31Yathecal82Chanosiaya39Assylla81Aidaira26Eudanu84Eurithphos97Chamiman85Arin32Leetirraya83Tyialisti80Marundi65Eusur90Mindirranya33Reunasu60Phiallylis33Isty55Frichilsa31Chanastst38Chanista95Aellyria80Siarithria38Rastynusuir31Chanossanya44Iljask75Lisjaskan36Mindjasksya61Frichirranya75Pheosurllorin41Raesty92Ilast79Eratiel90Iral74Tyaelorap29Aithelis62Assim27Asur53Lassilsala30Saedaiphos46Irith83Aelastirin39Ilmol66Assassasta79Ilosian36Lirtosia63Iskossasda43Asur53Hala31Jiskjask80Aethedru70Iral74Yathecal72Sisur91Ennrian78'"
      ]
     },
     "execution_count": 31,
     "metadata": {},
     "output_type": "execute_result"
    }
   ],
   "source": [
    "# Total Number of Players\n",
    "total = purchase_data_pd[\"SN\"].sum()\n",
    "total\n"
   ]
  },
  {
   "cell_type": "code",
   "execution_count": 25,
   "metadata": {},
   "outputs": [
    {
     "ename": "AttributeError",
     "evalue": "'function' object has no attribute 'head'",
     "output_type": "error",
     "traceback": [
      "\u001b[0;31m---------------------------------------------------------------------------\u001b[0m",
      "\u001b[0;31mAttributeError\u001b[0m                            Traceback (most recent call last)",
      "\u001b[0;32m<ipython-input-25-60abe405e347>\u001b[0m in \u001b[0;36m<module>\u001b[0;34m\u001b[0m\n\u001b[0;32m----> 1\u001b[0;31m \u001b[0mpurchase_data\u001b[0m\u001b[0;34m[\u001b[0m\u001b[0;34m\"SN\"\u001b[0m\u001b[0;34m]\u001b[0m\u001b[0;34m.\u001b[0m\u001b[0mcount\u001b[0m\u001b[0;34m.\u001b[0m\u001b[0mhead\u001b[0m\u001b[0;34m\u001b[0m\u001b[0;34m\u001b[0m\u001b[0m\n\u001b[0m",
      "\u001b[0;31mAttributeError\u001b[0m: 'function' object has no attribute 'head'"
     ]
    }
   ],
   "source": [
    "purchase_data[\"SN\"].count.head"
   ]
  },
  {
   "cell_type": "code",
   "execution_count": null,
   "metadata": {},
   "outputs": [],
   "source": []
  },
  {
   "cell_type": "code",
   "execution_count": null,
   "metadata": {},
   "outputs": [],
   "source": []
  },
  {
   "cell_type": "code",
   "execution_count": null,
   "metadata": {},
   "outputs": [],
   "source": []
  },
  {
   "cell_type": "code",
   "execution_count": null,
   "metadata": {},
   "outputs": [],
   "source": []
  },
  {
   "cell_type": "code",
   "execution_count": null,
   "metadata": {},
   "outputs": [],
   "source": []
  },
  {
   "cell_type": "code",
   "execution_count": null,
   "metadata": {},
   "outputs": [],
   "source": []
  },
  {
   "cell_type": "code",
   "execution_count": null,
   "metadata": {},
   "outputs": [],
   "source": []
  },
  {
   "cell_type": "code",
   "execution_count": null,
   "metadata": {},
   "outputs": [],
   "source": []
  },
  {
   "cell_type": "code",
   "execution_count": null,
   "metadata": {},
   "outputs": [],
   "source": []
  },
  {
   "cell_type": "code",
   "execution_count": null,
   "metadata": {},
   "outputs": [],
   "source": []
  },
  {
   "cell_type": "markdown",
   "metadata": {},
   "source": [
    "## Player Count"
   ]
  },
  {
   "cell_type": "markdown",
   "metadata": {},
   "source": [
    "* Display the total number of players\n"
   ]
  },
  {
   "cell_type": "code",
   "execution_count": 2,
   "metadata": {},
   "outputs": [
    {
     "data": {
      "text/html": [
       "<div>\n",
       "<style scoped>\n",
       "    .dataframe tbody tr th:only-of-type {\n",
       "        vertical-align: middle;\n",
       "    }\n",
       "\n",
       "    .dataframe tbody tr th {\n",
       "        vertical-align: top;\n",
       "    }\n",
       "\n",
       "    .dataframe thead th {\n",
       "        text-align: right;\n",
       "    }\n",
       "</style>\n",
       "<table border=\"1\" class=\"dataframe\">\n",
       "  <thead>\n",
       "    <tr style=\"text-align: right;\">\n",
       "      <th></th>\n",
       "      <th>Total Players</th>\n",
       "    </tr>\n",
       "  </thead>\n",
       "  <tbody>\n",
       "    <tr>\n",
       "      <th>0</th>\n",
       "      <td>576</td>\n",
       "    </tr>\n",
       "  </tbody>\n",
       "</table>\n",
       "</div>"
      ],
      "text/plain": [
       "   Total Players\n",
       "0            576"
      ]
     },
     "execution_count": 2,
     "metadata": {},
     "output_type": "execute_result"
    }
   ],
   "source": []
  },
  {
   "cell_type": "markdown",
   "metadata": {},
   "source": [
    "## Purchasing Analysis (Total)"
   ]
  },
  {
   "cell_type": "markdown",
   "metadata": {},
   "source": [
    "* Run basic calculations to obtain number of unique items, average price, etc.\n",
    "\n",
    "\n",
    "* Create a summary data frame to hold the results\n",
    "\n",
    "\n",
    "* Optional: give the displayed data cleaner formatting\n",
    "\n",
    "\n",
    "* Display the summary data frame\n"
   ]
  },
  {
   "cell_type": "code",
   "execution_count": 3,
   "metadata": {
    "scrolled": true
   },
   "outputs": [
    {
     "data": {
      "text/html": [
       "<div>\n",
       "<style scoped>\n",
       "    .dataframe tbody tr th:only-of-type {\n",
       "        vertical-align: middle;\n",
       "    }\n",
       "\n",
       "    .dataframe tbody tr th {\n",
       "        vertical-align: top;\n",
       "    }\n",
       "\n",
       "    .dataframe thead th {\n",
       "        text-align: right;\n",
       "    }\n",
       "</style>\n",
       "<table border=\"1\" class=\"dataframe\">\n",
       "  <thead>\n",
       "    <tr style=\"text-align: right;\">\n",
       "      <th></th>\n",
       "      <th>Number of Unique Items</th>\n",
       "      <th>Average Price</th>\n",
       "      <th>Number of Purchases</th>\n",
       "      <th>Total Revenue</th>\n",
       "    </tr>\n",
       "  </thead>\n",
       "  <tbody>\n",
       "    <tr>\n",
       "      <th>0</th>\n",
       "      <td>183</td>\n",
       "      <td>$3.05</td>\n",
       "      <td>780</td>\n",
       "      <td>$2,379.77</td>\n",
       "    </tr>\n",
       "  </tbody>\n",
       "</table>\n",
       "</div>"
      ],
      "text/plain": [
       "   Number of Unique Items Average Price Number of Purchases Total Revenue\n",
       "0                     183         $3.05                 780     $2,379.77"
      ]
     },
     "execution_count": 3,
     "metadata": {},
     "output_type": "execute_result"
    }
   ],
   "source": []
  },
  {
   "cell_type": "markdown",
   "metadata": {},
   "source": [
    "## Gender Demographics"
   ]
  },
  {
   "cell_type": "markdown",
   "metadata": {},
   "source": [
    "* Percentage and Count of Male Players\n",
    "\n",
    "\n",
    "* Percentage and Count of Female Players\n",
    "\n",
    "\n",
    "* Percentage and Count of Other / Non-Disclosed\n",
    "\n",
    "\n"
   ]
  },
  {
   "cell_type": "code",
   "execution_count": 4,
   "metadata": {},
   "outputs": [
    {
     "data": {
      "text/html": [
       "<div>\n",
       "<style scoped>\n",
       "    .dataframe tbody tr th:only-of-type {\n",
       "        vertical-align: middle;\n",
       "    }\n",
       "\n",
       "    .dataframe tbody tr th {\n",
       "        vertical-align: top;\n",
       "    }\n",
       "\n",
       "    .dataframe thead th {\n",
       "        text-align: right;\n",
       "    }\n",
       "</style>\n",
       "<table border=\"1\" class=\"dataframe\">\n",
       "  <thead>\n",
       "    <tr style=\"text-align: right;\">\n",
       "      <th></th>\n",
       "      <th>Total Count</th>\n",
       "      <th>Percentage of Players</th>\n",
       "    </tr>\n",
       "  </thead>\n",
       "  <tbody>\n",
       "    <tr>\n",
       "      <th>Male</th>\n",
       "      <td>484</td>\n",
       "      <td>84.03%</td>\n",
       "    </tr>\n",
       "    <tr>\n",
       "      <th>Female</th>\n",
       "      <td>81</td>\n",
       "      <td>14.06%</td>\n",
       "    </tr>\n",
       "    <tr>\n",
       "      <th>Other / Non-Disclosed</th>\n",
       "      <td>11</td>\n",
       "      <td>1.91%</td>\n",
       "    </tr>\n",
       "  </tbody>\n",
       "</table>\n",
       "</div>"
      ],
      "text/plain": [
       "                       Total Count Percentage of Players\n",
       "Male                           484                84.03%\n",
       "Female                          81                14.06%\n",
       "Other / Non-Disclosed           11                 1.91%"
      ]
     },
     "execution_count": 4,
     "metadata": {},
     "output_type": "execute_result"
    }
   ],
   "source": []
  },
  {
   "cell_type": "markdown",
   "metadata": {},
   "source": [
    "\n",
    "## Purchasing Analysis (Gender)"
   ]
  },
  {
   "cell_type": "markdown",
   "metadata": {},
   "source": [
    "* Run basic calculations to obtain purchase count, avg. purchase price, avg. purchase total per person etc. by gender\n",
    "\n",
    "\n",
    "\n",
    "\n",
    "* Create a summary data frame to hold the results\n",
    "\n",
    "\n",
    "* Optional: give the displayed data cleaner formatting\n",
    "\n",
    "\n",
    "* Display the summary data frame"
   ]
  },
  {
   "cell_type": "code",
   "execution_count": 5,
   "metadata": {},
   "outputs": [
    {
     "data": {
      "text/html": [
       "<div>\n",
       "<style scoped>\n",
       "    .dataframe tbody tr th:only-of-type {\n",
       "        vertical-align: middle;\n",
       "    }\n",
       "\n",
       "    .dataframe tbody tr th {\n",
       "        vertical-align: top;\n",
       "    }\n",
       "\n",
       "    .dataframe thead th {\n",
       "        text-align: right;\n",
       "    }\n",
       "</style>\n",
       "<table border=\"1\" class=\"dataframe\">\n",
       "  <thead>\n",
       "    <tr style=\"text-align: right;\">\n",
       "      <th></th>\n",
       "      <th>Purchase Count</th>\n",
       "      <th>Average Purchase Price</th>\n",
       "      <th>Total Purchase Value</th>\n",
       "      <th>Avg Total Purchase per Person</th>\n",
       "    </tr>\n",
       "    <tr>\n",
       "      <th>Gender</th>\n",
       "      <th></th>\n",
       "      <th></th>\n",
       "      <th></th>\n",
       "      <th></th>\n",
       "    </tr>\n",
       "  </thead>\n",
       "  <tbody>\n",
       "    <tr>\n",
       "      <th>Female</th>\n",
       "      <td>113</td>\n",
       "      <td>$3.20</td>\n",
       "      <td>$361.94</td>\n",
       "      <td>$4.47</td>\n",
       "    </tr>\n",
       "    <tr>\n",
       "      <th>Male</th>\n",
       "      <td>652</td>\n",
       "      <td>$3.02</td>\n",
       "      <td>$1,967.64</td>\n",
       "      <td>$4.07</td>\n",
       "    </tr>\n",
       "    <tr>\n",
       "      <th>Other / Non-Disclosed</th>\n",
       "      <td>15</td>\n",
       "      <td>$3.35</td>\n",
       "      <td>$50.19</td>\n",
       "      <td>$4.56</td>\n",
       "    </tr>\n",
       "  </tbody>\n",
       "</table>\n",
       "</div>"
      ],
      "text/plain": [
       "                      Purchase Count Average Purchase Price  \\\n",
       "Gender                                                        \n",
       "Female                           113                  $3.20   \n",
       "Male                             652                  $3.02   \n",
       "Other / Non-Disclosed             15                  $3.35   \n",
       "\n",
       "                      Total Purchase Value Avg Total Purchase per Person  \n",
       "Gender                                                                    \n",
       "Female                             $361.94                         $4.47  \n",
       "Male                             $1,967.64                         $4.07  \n",
       "Other / Non-Disclosed               $50.19                         $4.56  "
      ]
     },
     "execution_count": 5,
     "metadata": {},
     "output_type": "execute_result"
    }
   ],
   "source": []
  },
  {
   "cell_type": "markdown",
   "metadata": {},
   "source": [
    "## Age Demographics"
   ]
  },
  {
   "cell_type": "markdown",
   "metadata": {},
   "source": [
    "* Establish bins for ages\n",
    "\n",
    "\n",
    "* Categorize the existing players using the age bins. Hint: use pd.cut()\n",
    "\n",
    "\n",
    "* Calculate the numbers and percentages by age group\n",
    "\n",
    "\n",
    "* Create a summary data frame to hold the results\n",
    "\n",
    "\n",
    "* Optional: round the percentage column to two decimal points\n",
    "\n",
    "\n",
    "* Display Age Demographics Table\n"
   ]
  },
  {
   "cell_type": "code",
   "execution_count": 6,
   "metadata": {},
   "outputs": [
    {
     "data": {
      "text/html": [
       "<div>\n",
       "<style scoped>\n",
       "    .dataframe tbody tr th:only-of-type {\n",
       "        vertical-align: middle;\n",
       "    }\n",
       "\n",
       "    .dataframe tbody tr th {\n",
       "        vertical-align: top;\n",
       "    }\n",
       "\n",
       "    .dataframe thead th {\n",
       "        text-align: right;\n",
       "    }\n",
       "</style>\n",
       "<table border=\"1\" class=\"dataframe\">\n",
       "  <thead>\n",
       "    <tr style=\"text-align: right;\">\n",
       "      <th></th>\n",
       "      <th>Total Count</th>\n",
       "      <th>Percentage of Players</th>\n",
       "    </tr>\n",
       "  </thead>\n",
       "  <tbody>\n",
       "    <tr>\n",
       "      <th>&lt;10</th>\n",
       "      <td>17</td>\n",
       "      <td>2.95%</td>\n",
       "    </tr>\n",
       "    <tr>\n",
       "      <th>10-14</th>\n",
       "      <td>22</td>\n",
       "      <td>3.82%</td>\n",
       "    </tr>\n",
       "    <tr>\n",
       "      <th>15-19</th>\n",
       "      <td>107</td>\n",
       "      <td>18.58%</td>\n",
       "    </tr>\n",
       "    <tr>\n",
       "      <th>20-24</th>\n",
       "      <td>258</td>\n",
       "      <td>44.79%</td>\n",
       "    </tr>\n",
       "    <tr>\n",
       "      <th>25-29</th>\n",
       "      <td>77</td>\n",
       "      <td>13.37%</td>\n",
       "    </tr>\n",
       "    <tr>\n",
       "      <th>30-34</th>\n",
       "      <td>52</td>\n",
       "      <td>9.03%</td>\n",
       "    </tr>\n",
       "    <tr>\n",
       "      <th>35-39</th>\n",
       "      <td>31</td>\n",
       "      <td>5.38%</td>\n",
       "    </tr>\n",
       "    <tr>\n",
       "      <th>40+</th>\n",
       "      <td>12</td>\n",
       "      <td>2.08%</td>\n",
       "    </tr>\n",
       "  </tbody>\n",
       "</table>\n",
       "</div>"
      ],
      "text/plain": [
       "       Total Count Percentage of Players\n",
       "<10             17                 2.95%\n",
       "10-14           22                 3.82%\n",
       "15-19          107                18.58%\n",
       "20-24          258                44.79%\n",
       "25-29           77                13.37%\n",
       "30-34           52                 9.03%\n",
       "35-39           31                 5.38%\n",
       "40+             12                 2.08%"
      ]
     },
     "execution_count": 6,
     "metadata": {},
     "output_type": "execute_result"
    }
   ],
   "source": []
  },
  {
   "cell_type": "markdown",
   "metadata": {},
   "source": [
    "## Purchasing Analysis (Age)"
   ]
  },
  {
   "cell_type": "markdown",
   "metadata": {},
   "source": [
    "* Bin the purchase_data data frame by age\n",
    "\n",
    "\n",
    "* Run basic calculations to obtain purchase count, avg. purchase price, avg. purchase total per person etc. in the table below\n",
    "\n",
    "\n",
    "* Create a summary data frame to hold the results\n",
    "\n",
    "\n",
    "* Optional: give the displayed data cleaner formatting\n",
    "\n",
    "\n",
    "* Display the summary data frame"
   ]
  },
  {
   "cell_type": "code",
   "execution_count": 7,
   "metadata": {},
   "outputs": [
    {
     "data": {
      "text/html": [
       "<div>\n",
       "<style scoped>\n",
       "    .dataframe tbody tr th:only-of-type {\n",
       "        vertical-align: middle;\n",
       "    }\n",
       "\n",
       "    .dataframe tbody tr th {\n",
       "        vertical-align: top;\n",
       "    }\n",
       "\n",
       "    .dataframe thead th {\n",
       "        text-align: right;\n",
       "    }\n",
       "</style>\n",
       "<table border=\"1\" class=\"dataframe\">\n",
       "  <thead>\n",
       "    <tr style=\"text-align: right;\">\n",
       "      <th></th>\n",
       "      <th>Purchase Count</th>\n",
       "      <th>Average Purchase Price</th>\n",
       "      <th>Total Purchase Value</th>\n",
       "      <th>Avg Total Purchase per Person</th>\n",
       "    </tr>\n",
       "    <tr>\n",
       "      <th>Age Ranges</th>\n",
       "      <th></th>\n",
       "      <th></th>\n",
       "      <th></th>\n",
       "      <th></th>\n",
       "    </tr>\n",
       "  </thead>\n",
       "  <tbody>\n",
       "    <tr>\n",
       "      <th>&lt;10</th>\n",
       "      <td>23</td>\n",
       "      <td>$3.35</td>\n",
       "      <td>$77.13</td>\n",
       "      <td>$4.54</td>\n",
       "    </tr>\n",
       "    <tr>\n",
       "      <th>10-14</th>\n",
       "      <td>28</td>\n",
       "      <td>$2.96</td>\n",
       "      <td>$82.78</td>\n",
       "      <td>$3.76</td>\n",
       "    </tr>\n",
       "    <tr>\n",
       "      <th>15-19</th>\n",
       "      <td>136</td>\n",
       "      <td>$3.04</td>\n",
       "      <td>$412.89</td>\n",
       "      <td>$3.86</td>\n",
       "    </tr>\n",
       "    <tr>\n",
       "      <th>20-24</th>\n",
       "      <td>365</td>\n",
       "      <td>$3.05</td>\n",
       "      <td>$1,114.06</td>\n",
       "      <td>$4.32</td>\n",
       "    </tr>\n",
       "    <tr>\n",
       "      <th>25-29</th>\n",
       "      <td>101</td>\n",
       "      <td>$2.90</td>\n",
       "      <td>$293.00</td>\n",
       "      <td>$3.81</td>\n",
       "    </tr>\n",
       "    <tr>\n",
       "      <th>30-34</th>\n",
       "      <td>73</td>\n",
       "      <td>$2.93</td>\n",
       "      <td>$214.00</td>\n",
       "      <td>$4.12</td>\n",
       "    </tr>\n",
       "    <tr>\n",
       "      <th>35-39</th>\n",
       "      <td>41</td>\n",
       "      <td>$3.60</td>\n",
       "      <td>$147.67</td>\n",
       "      <td>$4.76</td>\n",
       "    </tr>\n",
       "    <tr>\n",
       "      <th>40+</th>\n",
       "      <td>13</td>\n",
       "      <td>$2.94</td>\n",
       "      <td>$38.24</td>\n",
       "      <td>$3.19</td>\n",
       "    </tr>\n",
       "  </tbody>\n",
       "</table>\n",
       "</div>"
      ],
      "text/plain": [
       "           Purchase Count Average Purchase Price Total Purchase Value  \\\n",
       "Age Ranges                                                              \n",
       "<10                    23                  $3.35               $77.13   \n",
       "10-14                  28                  $2.96               $82.78   \n",
       "15-19                 136                  $3.04              $412.89   \n",
       "20-24                 365                  $3.05            $1,114.06   \n",
       "25-29                 101                  $2.90              $293.00   \n",
       "30-34                  73                  $2.93              $214.00   \n",
       "35-39                  41                  $3.60              $147.67   \n",
       "40+                    13                  $2.94               $38.24   \n",
       "\n",
       "           Avg Total Purchase per Person  \n",
       "Age Ranges                                \n",
       "<10                                $4.54  \n",
       "10-14                              $3.76  \n",
       "15-19                              $3.86  \n",
       "20-24                              $4.32  \n",
       "25-29                              $3.81  \n",
       "30-34                              $4.12  \n",
       "35-39                              $4.76  \n",
       "40+                                $3.19  "
      ]
     },
     "execution_count": 7,
     "metadata": {},
     "output_type": "execute_result"
    }
   ],
   "source": []
  },
  {
   "cell_type": "markdown",
   "metadata": {},
   "source": [
    "## Top Spenders"
   ]
  },
  {
   "cell_type": "markdown",
   "metadata": {},
   "source": [
    "* Run basic calculations to obtain the results in the table below\n",
    "\n",
    "\n",
    "* Create a summary data frame to hold the results\n",
    "\n",
    "\n",
    "* Sort the total purchase value column in descending order\n",
    "\n",
    "\n",
    "* Optional: give the displayed data cleaner formatting\n",
    "\n",
    "\n",
    "* Display a preview of the summary data frame\n",
    "\n"
   ]
  },
  {
   "cell_type": "code",
   "execution_count": 8,
   "metadata": {},
   "outputs": [
    {
     "data": {
      "text/html": [
       "<div>\n",
       "<style scoped>\n",
       "    .dataframe tbody tr th:only-of-type {\n",
       "        vertical-align: middle;\n",
       "    }\n",
       "\n",
       "    .dataframe tbody tr th {\n",
       "        vertical-align: top;\n",
       "    }\n",
       "\n",
       "    .dataframe thead th {\n",
       "        text-align: right;\n",
       "    }\n",
       "</style>\n",
       "<table border=\"1\" class=\"dataframe\">\n",
       "  <thead>\n",
       "    <tr style=\"text-align: right;\">\n",
       "      <th></th>\n",
       "      <th>Purchase Count</th>\n",
       "      <th>Average Purchase Price</th>\n",
       "      <th>Total Purchase Value</th>\n",
       "    </tr>\n",
       "    <tr>\n",
       "      <th>SN</th>\n",
       "      <th></th>\n",
       "      <th></th>\n",
       "      <th></th>\n",
       "    </tr>\n",
       "  </thead>\n",
       "  <tbody>\n",
       "    <tr>\n",
       "      <th>Lisosia93</th>\n",
       "      <td>5</td>\n",
       "      <td>$3.79</td>\n",
       "      <td>$18.96</td>\n",
       "    </tr>\n",
       "    <tr>\n",
       "      <th>Idastidru52</th>\n",
       "      <td>4</td>\n",
       "      <td>$3.86</td>\n",
       "      <td>$15.45</td>\n",
       "    </tr>\n",
       "    <tr>\n",
       "      <th>Chamjask73</th>\n",
       "      <td>3</td>\n",
       "      <td>$4.61</td>\n",
       "      <td>$13.83</td>\n",
       "    </tr>\n",
       "    <tr>\n",
       "      <th>Iral74</th>\n",
       "      <td>4</td>\n",
       "      <td>$3.40</td>\n",
       "      <td>$13.62</td>\n",
       "    </tr>\n",
       "    <tr>\n",
       "      <th>Iskadarya95</th>\n",
       "      <td>3</td>\n",
       "      <td>$4.37</td>\n",
       "      <td>$13.10</td>\n",
       "    </tr>\n",
       "  </tbody>\n",
       "</table>\n",
       "</div>"
      ],
      "text/plain": [
       "             Purchase Count Average Purchase Price Total Purchase Value\n",
       "SN                                                                     \n",
       "Lisosia93                 5                  $3.79               $18.96\n",
       "Idastidru52               4                  $3.86               $15.45\n",
       "Chamjask73                3                  $4.61               $13.83\n",
       "Iral74                    4                  $3.40               $13.62\n",
       "Iskadarya95               3                  $4.37               $13.10"
      ]
     },
     "execution_count": 8,
     "metadata": {},
     "output_type": "execute_result"
    }
   ],
   "source": []
  },
  {
   "cell_type": "markdown",
   "metadata": {},
   "source": [
    "## Most Popular Items"
   ]
  },
  {
   "cell_type": "markdown",
   "metadata": {},
   "source": [
    "* Retrieve the Item ID, Item Name, and Item Price columns\n",
    "\n",
    "\n",
    "* Group by Item ID and Item Name. Perform calculations to obtain purchase count, item price, and total purchase value\n",
    "\n",
    "\n",
    "* Create a summary data frame to hold the results\n",
    "\n",
    "\n",
    "* Sort the purchase count column in descending order\n",
    "\n",
    "\n",
    "* Optional: give the displayed data cleaner formatting\n",
    "\n",
    "\n",
    "* Display a preview of the summary data frame\n",
    "\n"
   ]
  },
  {
   "cell_type": "code",
   "execution_count": 9,
   "metadata": {},
   "outputs": [
    {
     "data": {
      "text/html": [
       "<div>\n",
       "<style scoped>\n",
       "    .dataframe tbody tr th:only-of-type {\n",
       "        vertical-align: middle;\n",
       "    }\n",
       "\n",
       "    .dataframe tbody tr th {\n",
       "        vertical-align: top;\n",
       "    }\n",
       "\n",
       "    .dataframe thead th {\n",
       "        text-align: right;\n",
       "    }\n",
       "</style>\n",
       "<table border=\"1\" class=\"dataframe\">\n",
       "  <thead>\n",
       "    <tr style=\"text-align: right;\">\n",
       "      <th></th>\n",
       "      <th></th>\n",
       "      <th>Purchase Count</th>\n",
       "      <th>Item Price</th>\n",
       "      <th>Total Purchase Value</th>\n",
       "    </tr>\n",
       "    <tr>\n",
       "      <th>Item ID</th>\n",
       "      <th>Item Name</th>\n",
       "      <th></th>\n",
       "      <th></th>\n",
       "      <th></th>\n",
       "    </tr>\n",
       "  </thead>\n",
       "  <tbody>\n",
       "    <tr>\n",
       "      <th>178</th>\n",
       "      <th>Oathbreaker, Last Hope of the Breaking Storm</th>\n",
       "      <td>12</td>\n",
       "      <td>$4.23</td>\n",
       "      <td>$50.76</td>\n",
       "    </tr>\n",
       "    <tr>\n",
       "      <th>145</th>\n",
       "      <th>Fiery Glass Crusader</th>\n",
       "      <td>9</td>\n",
       "      <td>$4.58</td>\n",
       "      <td>$41.22</td>\n",
       "    </tr>\n",
       "    <tr>\n",
       "      <th>108</th>\n",
       "      <th>Extraction, Quickblade Of Trembling Hands</th>\n",
       "      <td>9</td>\n",
       "      <td>$3.53</td>\n",
       "      <td>$31.77</td>\n",
       "    </tr>\n",
       "    <tr>\n",
       "      <th>82</th>\n",
       "      <th>Nirvana</th>\n",
       "      <td>9</td>\n",
       "      <td>$4.90</td>\n",
       "      <td>$44.10</td>\n",
       "    </tr>\n",
       "    <tr>\n",
       "      <th>19</th>\n",
       "      <th>Pursuit, Cudgel of Necromancy</th>\n",
       "      <td>8</td>\n",
       "      <td>$1.02</td>\n",
       "      <td>$8.16</td>\n",
       "    </tr>\n",
       "  </tbody>\n",
       "</table>\n",
       "</div>"
      ],
      "text/plain": [
       "                                                     Purchase Count  \\\n",
       "Item ID Item Name                                                     \n",
       "178     Oathbreaker, Last Hope of the Breaking Storm             12   \n",
       "145     Fiery Glass Crusader                                      9   \n",
       "108     Extraction, Quickblade Of Trembling Hands                 9   \n",
       "82      Nirvana                                                   9   \n",
       "19      Pursuit, Cudgel of Necromancy                             8   \n",
       "\n",
       "                                                     Item Price  \\\n",
       "Item ID Item Name                                                 \n",
       "178     Oathbreaker, Last Hope of the Breaking Storm      $4.23   \n",
       "145     Fiery Glass Crusader                              $4.58   \n",
       "108     Extraction, Quickblade Of Trembling Hands         $3.53   \n",
       "82      Nirvana                                           $4.90   \n",
       "19      Pursuit, Cudgel of Necromancy                     $1.02   \n",
       "\n",
       "                                                     Total Purchase Value  \n",
       "Item ID Item Name                                                          \n",
       "178     Oathbreaker, Last Hope of the Breaking Storm               $50.76  \n",
       "145     Fiery Glass Crusader                                       $41.22  \n",
       "108     Extraction, Quickblade Of Trembling Hands                  $31.77  \n",
       "82      Nirvana                                                    $44.10  \n",
       "19      Pursuit, Cudgel of Necromancy                               $8.16  "
      ]
     },
     "execution_count": 9,
     "metadata": {},
     "output_type": "execute_result"
    }
   ],
   "source": []
  },
  {
   "cell_type": "markdown",
   "metadata": {},
   "source": [
    "## Most Profitable Items"
   ]
  },
  {
   "cell_type": "markdown",
   "metadata": {},
   "source": [
    "* Sort the above table by total purchase value in descending order\n",
    "\n",
    "\n",
    "* Optional: give the displayed data cleaner formatting\n",
    "\n",
    "\n",
    "* Display a preview of the data frame\n",
    "\n"
   ]
  },
  {
   "cell_type": "code",
   "execution_count": 10,
   "metadata": {
    "scrolled": true
   },
   "outputs": [
    {
     "data": {
      "text/html": [
       "<div>\n",
       "<style scoped>\n",
       "    .dataframe tbody tr th:only-of-type {\n",
       "        vertical-align: middle;\n",
       "    }\n",
       "\n",
       "    .dataframe tbody tr th {\n",
       "        vertical-align: top;\n",
       "    }\n",
       "\n",
       "    .dataframe thead th {\n",
       "        text-align: right;\n",
       "    }\n",
       "</style>\n",
       "<table border=\"1\" class=\"dataframe\">\n",
       "  <thead>\n",
       "    <tr style=\"text-align: right;\">\n",
       "      <th></th>\n",
       "      <th></th>\n",
       "      <th>Purchase Count</th>\n",
       "      <th>Item Price</th>\n",
       "      <th>Total Purchase Value</th>\n",
       "    </tr>\n",
       "    <tr>\n",
       "      <th>Item ID</th>\n",
       "      <th>Item Name</th>\n",
       "      <th></th>\n",
       "      <th></th>\n",
       "      <th></th>\n",
       "    </tr>\n",
       "  </thead>\n",
       "  <tbody>\n",
       "    <tr>\n",
       "      <th>178</th>\n",
       "      <th>Oathbreaker, Last Hope of the Breaking Storm</th>\n",
       "      <td>12</td>\n",
       "      <td>$4.23</td>\n",
       "      <td>$50.76</td>\n",
       "    </tr>\n",
       "    <tr>\n",
       "      <th>82</th>\n",
       "      <th>Nirvana</th>\n",
       "      <td>9</td>\n",
       "      <td>$4.90</td>\n",
       "      <td>$44.10</td>\n",
       "    </tr>\n",
       "    <tr>\n",
       "      <th>145</th>\n",
       "      <th>Fiery Glass Crusader</th>\n",
       "      <td>9</td>\n",
       "      <td>$4.58</td>\n",
       "      <td>$41.22</td>\n",
       "    </tr>\n",
       "    <tr>\n",
       "      <th>92</th>\n",
       "      <th>Final Critic</th>\n",
       "      <td>8</td>\n",
       "      <td>$4.88</td>\n",
       "      <td>$39.04</td>\n",
       "    </tr>\n",
       "    <tr>\n",
       "      <th>103</th>\n",
       "      <th>Singed Scalpel</th>\n",
       "      <td>8</td>\n",
       "      <td>$4.35</td>\n",
       "      <td>$34.80</td>\n",
       "    </tr>\n",
       "  </tbody>\n",
       "</table>\n",
       "</div>"
      ],
      "text/plain": [
       "                                                     Purchase Count  \\\n",
       "Item ID Item Name                                                     \n",
       "178     Oathbreaker, Last Hope of the Breaking Storm             12   \n",
       "82      Nirvana                                                   9   \n",
       "145     Fiery Glass Crusader                                      9   \n",
       "92      Final Critic                                              8   \n",
       "103     Singed Scalpel                                            8   \n",
       "\n",
       "                                                     Item Price  \\\n",
       "Item ID Item Name                                                 \n",
       "178     Oathbreaker, Last Hope of the Breaking Storm      $4.23   \n",
       "82      Nirvana                                           $4.90   \n",
       "145     Fiery Glass Crusader                              $4.58   \n",
       "92      Final Critic                                      $4.88   \n",
       "103     Singed Scalpel                                    $4.35   \n",
       "\n",
       "                                                     Total Purchase Value  \n",
       "Item ID Item Name                                                          \n",
       "178     Oathbreaker, Last Hope of the Breaking Storm               $50.76  \n",
       "82      Nirvana                                                    $44.10  \n",
       "145     Fiery Glass Crusader                                       $41.22  \n",
       "92      Final Critic                                               $39.04  \n",
       "103     Singed Scalpel                                             $34.80  "
      ]
     },
     "execution_count": 10,
     "metadata": {},
     "output_type": "execute_result"
    }
   ],
   "source": []
  }
 ],
 "metadata": {
  "anaconda-cloud": {},
  "kernel_info": {
   "name": "python3"
  },
  "kernelspec": {
   "display_name": "Python 3",
   "language": "python",
   "name": "python3"
  },
  "language_info": {
   "codemirror_mode": {
    "name": "ipython",
    "version": 3
   },
   "file_extension": ".py",
   "mimetype": "text/x-python",
   "name": "python",
   "nbconvert_exporter": "python",
   "pygments_lexer": "ipython3",
   "version": "3.7.4"
  },
  "latex_envs": {
   "LaTeX_envs_menu_present": true,
   "autoclose": false,
   "autocomplete": true,
   "bibliofile": "biblio.bib",
   "cite_by": "apalike",
   "current_citInitial": 1,
   "eqLabelWithNumbers": true,
   "eqNumInitial": 1,
   "hotkeys": {
    "equation": "Ctrl-E",
    "itemize": "Ctrl-I"
   },
   "labels_anchors": false,
   "latex_user_defs": false,
   "report_style_numbering": false,
   "user_envs_cfg": false
  },
  "nteract": {
   "version": "0.2.0"
  }
 },
 "nbformat": 4,
 "nbformat_minor": 2
}
